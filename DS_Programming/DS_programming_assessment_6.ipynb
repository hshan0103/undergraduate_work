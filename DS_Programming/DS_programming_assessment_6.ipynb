{
 "cells": [
  {
   "cell_type": "markdown",
   "metadata": {},
   "source": [
    "# Assessment 6"
   ]
  },
  {
   "cell_type": "code",
   "execution_count": 18,
   "metadata": {},
   "outputs": [],
   "source": [
    "import pandas as pd\n",
    "import matplotlib.pyplot as plt\n",
    "import seaborn as sb\n",
    "\n",
    "# Stage 1: Read and process the data\n",
    "\n",
    "def read_and_process(filename):\n",
    "    # Your code here\n",
    "    \n",
    "    df = pd.read_csv(filename)\n",
    "    df.dropna(how='any', inplace=True)\n",
    "    \n",
    "    for col in df.columns:\n",
    "        if col != 'species':\n",
    "            df[col] = pd.to_numeric([i.strip('cm') for i in df[col]])\n",
    "            #stripping the 'c' and 'm' characters from the entries\n",
    "            \n",
    "    df['sepal_width'] = df['sepal_width']/10\n",
    "    return(df)\n"
   ]
  },
  {
   "cell_type": "code",
   "execution_count": 53,
   "metadata": {},
   "outputs": [
    {
     "name": "stdout",
     "output_type": "stream",
     "text": [
      "['a', 'b', 'c', 'v']\n"
     ]
    }
   ],
   "source": [
    "# Stage 5: Conculsion\n",
    "def conclusion():\n",
    "    # Return the two (non-species) categories that best identify the species of iris\n",
    "    # Your code here\n",
    "    selected = ('petal_length', 'petal_width')\n",
    "    return (selected)\n"
   ]
  },
  {
   "cell_type": "code",
   "execution_count": 75,
   "metadata": {},
   "outputs": [
    {
     "name": "stdout",
     "output_type": "stream",
     "text": [
      "['weight', 'feed']\n",
      "               weight\n",
      "feed                 \n",
      "horsebean  158.333333\n",
      "linseed    239.666667\n",
      "soybean    240.333333\n",
      "sunflower  385.000000\n"
     ]
    }
   ],
   "source": [
    "# Additional function defined\n",
    "class Menus:\n",
    "    '''class for displaying main menu, selection is the class method'''\n",
    "    def __init__(self):\n",
    "        self.options = '1. Create textual analysis' + '\\n' + '2. Create graphical analysis'\\\n",
    "        + '\\n' + '3. Exit'\n",
    "        print(self.options)\n",
    "        self.select = input('Please select an option: ')\n",
    "    def selection(self):\n",
    "        return (self.select)\n",
    "    \n",
    "def species_menu(df):\n",
    "    '''function listing the unique categories for species and return user's input for the species selection'''\n",
    "    unique_species = list(data.species.unique())\n",
    "    unique_species.sort()\n",
    "    available_species = 'all' \n",
    "        \n",
    "    for s in unique_species:\n",
    "        available_species += ', ' + s\n",
    "    species_ques = 'Select species (' + available_species + '): '\n",
    "    return (input(species_ques))\n",
    "        \n",
    "def x_features_menu(df):\n",
    "    '''function listing the features/ column headers and return user's input for the features selected as x-axis variables'''\n",
    "    cols = list(df.columns)\n",
    "    features = 'all'\n",
    "    for f in cols:\n",
    "        if f != 'species':\n",
    "            features += ', ' + f\n",
    "    features_ques = 'Choose the x-axis characteristic (' + features + '): '\n",
    "    return (input(features_ques))\n",
    "\n",
    "def y_features_menu(df):\n",
    "    '''function listing the features/ column headers and return user's input for the features selected as y-axis variable'''\n",
    "    cols = list(df.columns)\n",
    "    features = cols[0]\n",
    "    for i in range(1,len(cols)):\n",
    "        if cols[i] != 'species':\n",
    "            features += ', ' + cols[i]\n",
    "    features_ques = 'Choose the y-axis characteristic (' + features + '): '\n",
    "    return (input(features_ques))\n",
    "        \n",
    "def text_analysis(df):\n",
    "    '''returning information about mean, 1st quantile, median, 3rd quantile and standard deviation for the selected dataframe'''\n",
    "    result = df.describe().loc[['mean', '25%', '50%', '75%', 'std']]\n",
    "    result.index = ['Mean', '25%', 'Median', '75%', 'Std']\n",
    "    return (result.T)\n"
   ]
  },
  {
   "cell_type": "code",
   "execution_count": 91,
   "metadata": {},
   "outputs": [],
   "source": [
    "if __name__ == '__main__':\n",
    "    \n",
    "    # Stage 2: User menu\n",
    "    # Your code here\n",
    "    file_input = input('Enter csv file: ')\n",
    "    data = read_and_process(file_input)\n",
    "    \n",
    "    menu = Menus()\n",
    "    \n",
    "    while menu.selection() != '3':\n",
    "\n",
    "    # Stage 3: Text-based analysis\n",
    "    # Your code here\n",
    "        if menu.selection() == '1':\n",
    "            select_species = species_menu(data)\n",
    "            if select_species != 'all':\n",
    "                df = data[data['species'] == select_species]\n",
    "                # get the datafame for only the species selected\n",
    "                print(text_analysis(df).to_string())\n",
    "            else:\n",
    "                print(text_analysis(data).to_string())\n",
    "\n",
    "    # Stage 4: Graphics-based analysis\n",
    "    # Your code here\n",
    "    \n",
    "        elif menu.selection() == '2':\n",
    "            select_x_axis = x_features_menu(data)\n",
    "            if select_x_axis == 'all':\n",
    "                plt.figure()\n",
    "                # plots do not overlap\n",
    "                with sb.axes_style(\"darkgrid\"):\n",
    "                    sb.pairplot(data = data, hue = 'species')\n",
    "            else:\n",
    "                select_y_axis = y_features_menu(data)\n",
    "                plt.figure()\n",
    "                with sb.axes_style(\"darkgrid\"):\n",
    "                #creating plots with grid background\n",
    "                    sb.scatterplot(x = select_x_axis, y = select_y_axis, hue = 'species', data=data)\n",
    "            save_filename = input('Enter save file: ')\n",
    "            plt.savefig(save_filename)\n",
    "        \n",
    "        menu = Menus()\n",
    "\n",
    "    else:\n",
    "        exit()\n",
    "        "
   ]
  }
 ],
 "metadata": {
  "kernelspec": {
   "display_name": "Python 3",
   "language": "python",
   "name": "python3"
  },
  "language_info": {
   "codemirror_mode": {
    "name": "ipython",
    "version": 3
   },
   "file_extension": ".py",
   "mimetype": "text/x-python",
   "name": "python",
   "nbconvert_exporter": "python",
   "pygments_lexer": "ipython3",
   "version": "3.7.4"
  }
 },
 "nbformat": 4,
 "nbformat_minor": 2
}
